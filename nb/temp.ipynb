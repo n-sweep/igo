{
 "cells": [
  {
   "cell_type": "code",
   "execution_count": null,
   "id": "60abad0e",
   "metadata": {},
   "outputs": [],
   "source": [
    "import re\n",
    "import os\n",
    "import requests\n",
    "import numpy as np\n",
    "from time import sleep\n",
    "from itertools import product"
   ]
  },
  {
   "cell_type": "markdown",
   "id": "26f25435",
   "metadata": {},
   "source": [
    "# Template Notebook"
   ]
  },
  {
   "cell_type": "code",
   "execution_count": null,
   "id": "c3167c06",
   "metadata": {},
   "outputs": [],
   "source": [
    "BASE_URL = \"https://online-go.com/api/v1/games\"\n",
    "\n",
    "ALPHA = 'abcdefghijklmnopqrstuvwxyz'\n",
    "B = \"⚫\"\n",
    "W = \"⚪\"\n",
    "PT = \"╶╴\"\n",
    "SP = \"╺╸\"\n",
    "\n",
    "BLACK = '\\033[30m'      # ]\n",
    "GRAY = '\\033[90m'       # ]\n",
    "YELLOW = '\\033[33m'     # ]\n",
    "BG_YELLOW = '\\033[43m'  # ]\n",
    "RESET = '\\033[0m'       # ]"
   ]
  },
  {
   "cell_type": "code",
   "execution_count": null,
   "id": "771f8c56",
   "metadata": {
    "lines_to_next_cell": 1
   },
   "outputs": [],
   "source": [
    "def retrieve_sgf(game_url: str) -> str:\n",
    "    \"\"\"Retrieve the SGF text from the given game url or id\n",
    "\n",
    "    Parameters\n",
    "    ----------\n",
    "    game_url\n",
    "        the url or game id of an OGS game\n",
    "\n",
    "    Returns\n",
    "    -------\n",
    "    the Smart Game Format text data for the given game\n",
    "    \"\"\"\n",
    "\n",
    "    game_id = game_url.strip(\"https://online-go.com/game/\")\n",
    "    request_url = os.path.join(BASE_URL, game_id, 'sgf')\n",
    "\n",
    "    r = requests.get(request_url)\n",
    "    return r.content.decode('utf-8')\n",
    "\n",
    "\n",
    "def read_sgf(sgf: str) -> tuple:\n",
    "    \"\"\"Parse a Smart Game Format file into metadata and game moves\n",
    "\n",
    "    Parameters\n",
    "    ----------\n",
    "    sgf\n",
    "        string data of the SGF file\n",
    "\n",
    "    Returns\n",
    "    -------\n",
    "    a tuple containing metadata and game moves\n",
    "    \"\"\"\n",
    "\n",
    "    text = sgf.strip(')').split(';')\n",
    "    meta = dict(re.findall(r'(\\w+)\\[(.*?)\\]\\n?', text[1]))\n",
    "    moves = [tuple(m.strip('\\n()]').split('[')) for m in text[2:]]\n",
    "\n",
    "    return meta, moves"
   ]
  },
  {
   "cell_type": "code",
   "execution_count": null,
   "id": "45882835",
   "metadata": {
    "lines_to_next_cell": 1
   },
   "outputs": [],
   "source": [
    "class Board:\n",
    "    \"\"\"Representation of a Go board\n",
    "\n",
    "    Parameters\n",
    "    ----------\n",
    "    size : int\n",
    "        The size of the board dictates the length and width\n",
    "        Typically 9, 13, or 19\n",
    "    debug : bool\n",
    "        a flag for enabling debugging behavior\n",
    "\n",
    "    Attributes\n",
    "    ----------\n",
    "    state : np.array\n",
    "        State of the current board represented in integers\n",
    "        0 = empty space, 1 = black stone, 2 = white stone\n",
    "    \"\"\"\n",
    "\n",
    "    def __init__(self, size: int, debug: bool = False) -> None:\n",
    "        self.size = size\n",
    "        self.debug = debug\n",
    "        self.state = np.zeros((size,size), dtype=object)\n",
    "\n",
    "    def get_stones(self, player: int|None = None) -> np.ndarray:\n",
    "        \"\"\"Get stone objects from board state\n",
    "\n",
    "        Parameters\n",
    "        ----------\n",
    "        player\n",
    "            which player's stones to return, if none return all stones\n",
    "\n",
    "        Returns\n",
    "        -------\n",
    "        List of stone objects\n",
    "        \"\"\"\n",
    "        if player is not None:\n",
    "            return self.state[self.state == player]\n",
    "        return self.state[self.state > 0]\n",
    "\n",
    "    @property\n",
    "    def stones(self) -> np.ndarray:\n",
    "        \"\"\"Return all stones on the board\n",
    "\n",
    "        Returns\n",
    "        -------\n",
    "        List of Stone objects\n",
    "        \"\"\"\n",
    "        return self.get_stones()\n",
    "\n",
    "    def process_groups(self) -> None:\n",
    "        \"\"\"Find groups of stones and remove those with no liberties\"\"\"\n",
    "\n",
    "        def recursive_find_group(stone, group=None) -> set:\n",
    "            \"\"\"Recursively find groups of stones\n",
    "\n",
    "            Parameters\n",
    "            ----------\n",
    "            stone\n",
    "                a stone to be added to the group\n",
    "            group\n",
    "                the current group of stones\n",
    "            Returns\n",
    "            -------\n",
    "            a unique set of the stones in a group with the starting stone\n",
    "            \"\"\"\n",
    "\n",
    "            group = set() if group is None else group\n",
    "            if stone in group:\n",
    "                return set()\n",
    "            group.add(stone)\n",
    "            for con in stone.connections:\n",
    "                recursive_find_group(con, group)\n",
    "            return group\n",
    "\n",
    "    def play(self, player: int, x: int, y: int) -> None:\n",
    "        \"\"\"Play a stone on the board\n",
    "\n",
    "        Parameters\n",
    "        ----------\n",
    "        player\n",
    "            1 for black, 2 for white\n",
    "        x\n",
    "            The column on which to play\n",
    "        y\n",
    "            The row on which to play\n",
    "        \"\"\"\n",
    "\n",
    "        self.state[y, x] = Stone(self, player, np.array((y, x)))\n",
    "        self.process_groups()\n",
    "\n",
    "        groups = []\n",
    "        stones = set(self.get_stones())\n",
    "        while stones:\n",
    "            group = recursive_find_group(stones.pop())\n",
    "            groups.append(group)\n",
    "            stones = stones - group\n",
    "\n",
    "            liberties = len(set.union(*[s.liberties for s in group]))\n",
    "            if liberties == 0:\n",
    "                remove = np.array([s.location for s in group])\n",
    "                self.state[remove[:, 0], remove[:, 1]] = 0\n",
    "\n",
    "    def plaintext_board(self) -> str:\n",
    "        \"\"\"Create a terminal-printable plain text board, including colors\n",
    "\n",
    "        Returns\n",
    "        -------\n",
    "        Plain text representation of the current board state\n",
    "        \"\"\"\n",
    "\n",
    "        star_points = np.zeros((self.size,self.size), dtype=int)\n",
    "        corners = [j for i in range(3) if (j:=((s:=2+(self.size>9))+(2*s*i))) < self.size]\n",
    "        pts = [(f:=self.size//2, f)] + list(product(corners, repeat=2))\n",
    "        star_points[*zip(*pts)] = -1\n",
    "\n",
    "        board = self.state.copy()\n",
    "        mask = ~self.state.astype(bool)\n",
    "        board[mask] = star_points[mask]\n",
    "\n",
    "        if self.debug:\n",
    "            joined = ' '.join([str(i) for i in range(self.size)]).upper()\n",
    "        else:\n",
    "            joined = ' '.join(list(ALPHA.replace('i', '')[:self.size])).upper()\n",
    "        rows = [col_label:=f\"{YELLOW}{(d:='-' * s)}{BLACK}{joined} {YELLOW}{d}\"]\n",
    "\n",
    "        for r, input_row in enumerate(board.astype(int), 1):\n",
    "            row = ''.join([(PT,B,W,SP)[i] for i in input_row])\n",
    "\n",
    "            if self.debug:\n",
    "                num = str(r - 1)\n",
    "            else:\n",
    "                num = str(self.size - r + 1)\n",
    "\n",
    "            lnum = num.rjust(int(len(str(self.size))))\n",
    "            rnum = num.ljust(int(len(str(self.size))))\n",
    "            rows.append(f'{BLACK}{lnum} {GRAY}{row} {BLACK}{rnum}')\n",
    "\n",
    "        rows.append(col_label)\n",
    "        rows = [f'{BG_YELLOW}{row}{RESET}' for row in rows]\n",
    "\n",
    "        return '\\n'.join(rows)\n",
    "\n",
    "    def __str__(self) -> str:\n",
    "        return self.plaintext_board()\n",
    "\n",
    "    def __repr__(self) -> str:\n",
    "        return self.plaintext_board()"
   ]
  },
  {
   "cell_type": "code",
   "execution_count": null,
   "id": "d3259e9a",
   "metadata": {
    "lines_to_next_cell": 1
   },
   "outputs": [],
   "source": [
    "class Stone:\n",
    "    \"\"\"Representation of a Go stone\n",
    "\n",
    "    Parameters\n",
    "    ----------\n",
    "    board : Board\n",
    "        the Board object on which the stone is played\n",
    "    color : int\n",
    "        the color/player of the stone\n",
    "        1 for black, 2 for white\n",
    "    location : np.array\n",
    "        x, y location of the stone on the board\n",
    "    \"\"\"\n",
    "\n",
    "    def __init__(self, board: Board, color: int, location: np.ndarray) -> None:\n",
    "        self.board = board\n",
    "        self.color = color  # 1 is black, 2 is white\n",
    "        self.location = location\n",
    "\n",
    "    @property\n",
    "    def neighbors(self) -> tuple:\n",
    "        \"\"\"Determines the locations and values corresponding to each space neighboring this stone\n",
    "\n",
    "        Returns\n",
    "        -------\n",
    "        tuple containing an array of locations and an array of values of neighbors\n",
    "        \"\"\"\n",
    "        neighbor_locs = np.array(((0, 1), (1, 0), (0, -1), (-1, 0))) + self.location\n",
    "        oob = (neighbor_locs < 0) | (neighbor_locs >= self.board.size)\n",
    "        neighbor_locs = neighbor_locs[~oob.any(axis=1)]\n",
    "        neighbor_vals = self.board.state[neighbor_locs[:, 0], neighbor_locs[:, 1]]\n",
    "\n",
    "        return neighbor_locs, neighbor_vals\n",
    "\n",
    "    @property\n",
    "    def connections(self) -> list:\n",
    "        \"\"\"Returns the locations of each friendly connection on the board\"\"\"\n",
    "\n",
    "        locs, vals = self.neighbors\n",
    "        conns = locs[vals == self.color]\n",
    "        return list(self.board.state[conns[:, 0], conns[:, 1]])\n",
    "\n",
    "    @property\n",
    "    def liberties(self) -> set:\n",
    "        \"\"\"Returns the locations of each open liberty on the board\"\"\"\n",
    "\n",
    "        locs, vals = self.neighbors\n",
    "        return set(map(tuple, locs[vals < 1]))\n",
    "\n",
    "    def __int__(self) -> int:\n",
    "        return self.color\n",
    "\n",
    "    def __index__(self) -> int:\n",
    "        return self.__int__()\n",
    "\n",
    "    def __hash__(self) -> int:\n",
    "        y, x = self.location\n",
    "        return hash(f'{x}{y}')\n",
    "\n",
    "    def __gt__(self, other) -> bool:\n",
    "        return self.color > other\n",
    "\n",
    "    def __lt__(self, other) -> bool:\n",
    "        return self.color < other\n",
    "\n",
    "    def __eq__(self, other) -> bool:\n",
    "        return self.color == other\n",
    "\n",
    "    def __str__(self) -> str:\n",
    "        return f'{(B, W)[self.color-1]} {self.location}'\n",
    "\n",
    "    def __repr__(self) -> str:\n",
    "        return f'Stone(Board, {self.color}, {self.location})'"
   ]
  },
  {
   "cell_type": "code",
   "execution_count": null,
   "id": "171fd659",
   "metadata": {
    "lines_to_next_cell": 1
   },
   "outputs": [],
   "source": [
    "b = Board(9, debug=True)\n",
    "plays = [\n",
    "    (2, 3, 4), (2, 4, 3), (2, 4, 4), (2, 4, 5),\n",
    "    (1, 5, 3), (1, 5, 4), (1, 5, 5), (1, 4, 2),\n",
    "    (1, 4, 6), (1, 3, 3), (1, 3, 5)\n",
    "]\n",
    "\n",
    "for player, x, y in plays:\n",
    "    b.play(player, x, y)\n",
    "    # time.sleep(0.5)\n",
    "\n",
    "print(b)"
   ]
  },
  {
   "cell_type": "code",
   "execution_count": null,
   "id": "bad628e5",
   "metadata": {
    "lines_to_next_cell": 1
   },
   "outputs": [],
   "source": [
    "def recursive_find_group(stone, group=None) -> set:\n",
    "    group = set() if group is None else group\n",
    "    if stone in group:\n",
    "        return set()\n",
    "    group.add(stone)\n",
    "    for con in stone.connections:\n",
    "        recursive_find_group(con, group)\n",
    "    return group"
   ]
  },
  {
   "cell_type": "code",
   "execution_count": null,
   "id": "ddace157",
   "metadata": {},
   "outputs": [],
   "source": [
    "# starting_stone = b.stones[4]  # white stone 4, 3\n",
    "starting_stone = b.stones[6]\n",
    "result = recursive_find_group(starting_stone)\n",
    "result\n",
    "b"
   ]
  },
  {
   "cell_type": "code",
   "execution_count": null,
   "id": "7a4a30d8",
   "metadata": {},
   "outputs": [],
   "source": [
    "b.stones[0]\n",
    "locs, vals = b.stones[0].neighbors\n",
    "for loc, val in zip(locs, vals):\n",
    "    print(loc, val)"
   ]
  },
  {
   "cell_type": "code",
   "execution_count": null,
   "id": "81cef362",
   "metadata": {},
   "outputs": [],
   "source": [
    "groups = []\n",
    "stones = set(b.get_stones())\n",
    "while stones:\n",
    "    group = recursive_find_group(stones.pop())\n",
    "    groups.append(group)\n",
    "    stones = stones - group\n",
    "\n",
    "len(groups)"
   ]
  },
  {
   "cell_type": "code",
   "execution_count": null,
   "id": "a25ffc00",
   "metadata": {},
   "outputs": [],
   "source": [
    "b.play(1, 2, 4)\n",
    "\n",
    "group = groups[2]\n",
    "liberties = len(set.union(*[s.liberties for s in group]))\n",
    "\n",
    "print('Total liberties:', liberties)"
   ]
  },
  {
   "cell_type": "code",
   "execution_count": null,
   "id": "1ec24484",
   "metadata": {},
   "outputs": [],
   "source": [
    "if liberties == 0:\n",
    "    remove = np.array([s.location for s in group])\n",
    "    b.state[remove[:, 0], remove[:, 1]] = 0\n",
    "\n",
    "print(b)"
   ]
  },
  {
   "cell_type": "code",
   "execution_count": null,
   "id": "a8664c5a",
   "metadata": {},
   "outputs": [],
   "source": [
    "groups = []\n",
    "stones = set(b.get_stones())\n",
    "while stones:\n",
    "    group = recursive_find_group(stones.pop())\n",
    "    groups.append(group)\n",
    "    stones = stones - group\n",
    "\n",
    "    liberties = len(set.union(*[s.liberties for s in group]))\n",
    "    if liberties == 0:\n",
    "        remove = np.array([s.location for s in group])\n",
    "        b.state[remove[:, 0], remove[:, 1]] = 0"
   ]
  },
  {
   "cell_type": "code",
   "execution_count": null,
   "id": "af97ddd6",
   "metadata": {},
   "outputs": [],
   "source": [
    "b = Board(9, debug=True)\n",
    "plays = [\n",
    "    (1, 3, 4), (2, 4, 4),\n",
    "    (1, 4, 3), (2, 5, 3),\n",
    "    (1, 4, 5), (2, 5, 5),\n",
    "    (1, 5, 4)\n",
    "]"
   ]
  },
  {
   "cell_type": "code",
   "execution_count": null,
   "id": "6fb938e4",
   "metadata": {},
   "outputs": [],
   "source": [
    "for player, x, y in plays:\n",
    "    b.play(player, x, y)\n",
    "    sleep(1)\n",
    "    print(b)"
   ]
  },
  {
   "cell_type": "code",
   "execution_count": null,
   "id": "4fc132ff",
   "metadata": {},
   "outputs": [],
   "source": [
    "game = \"https://online-go.com/game/68039230\"\n",
    "sgf = retrieve_sgf(game)\n",
    "meta, moves = read_sgf(sgf)\n",
    "\n",
    "size = int(meta['SZ'])"
   ]
  },
  {
   "cell_type": "code",
   "execution_count": null,
   "id": "284a288a",
   "metadata": {},
   "outputs": [],
   "source": [
    "b = Board(size)\n",
    "\n",
    "for player, move in moves:\n",
    "    player = 'BW'.index(player) + 1\n",
    "\n",
    "    if move:  # an empty move is a pass\n",
    "        x, y = (ALPHA.index(c) for c in move)\n",
    "\n",
    "        b.play(player, x, y)\n",
    "        print(b)\n",
    "        sleep(0.15)"
   ]
  },
  {
   "cell_type": "code",
   "execution_count": null,
   "id": "999ddea5",
   "metadata": {
    "lines_to_next_cell": 0
   },
   "outputs": [],
   "source": []
  },
  {
   "cell_type": "code",
   "execution_count": null,
   "id": "f28b3b12",
   "metadata": {
    "lines_to_next_cell": 0
   },
   "outputs": [],
   "source": []
  },
  {
   "cell_type": "code",
   "execution_count": null,
   "id": "5a5cadde",
   "metadata": {
    "lines_to_next_cell": 0
   },
   "outputs": [],
   "source": []
  },
  {
   "cell_type": "code",
   "execution_count": null,
   "id": "47f2555e",
   "metadata": {
    "lines_to_next_cell": 0
   },
   "outputs": [],
   "source": []
  },
  {
   "cell_type": "code",
   "execution_count": null,
   "id": "b7096fa1",
   "metadata": {
    "lines_to_next_cell": 0
   },
   "outputs": [],
   "source": []
  },
  {
   "cell_type": "code",
   "execution_count": null,
   "id": "a1607002",
   "metadata": {
    "lines_to_next_cell": 0
   },
   "outputs": [],
   "source": []
  },
  {
   "cell_type": "code",
   "execution_count": null,
   "id": "515077d5",
   "metadata": {
    "lines_to_next_cell": 0
   },
   "outputs": [],
   "source": []
  },
  {
   "cell_type": "code",
   "execution_count": null,
   "id": "8409c6a7",
   "metadata": {
    "lines_to_next_cell": 0
   },
   "outputs": [],
   "source": []
  },
  {
   "cell_type": "code",
   "execution_count": null,
   "id": "0f669702",
   "metadata": {
    "lines_to_next_cell": 0
   },
   "outputs": [],
   "source": []
  },
  {
   "cell_type": "code",
   "execution_count": null,
   "id": "f07bc766",
   "metadata": {
    "lines_to_next_cell": 0
   },
   "outputs": [],
   "source": []
  },
  {
   "cell_type": "code",
   "execution_count": null,
   "id": "7a2ad319",
   "metadata": {
    "lines_to_next_cell": 0
   },
   "outputs": [],
   "source": []
  },
  {
   "cell_type": "code",
   "execution_count": null,
   "id": "f947355e",
   "metadata": {
    "lines_to_next_cell": 0
   },
   "outputs": [],
   "source": []
  },
  {
   "cell_type": "code",
   "execution_count": null,
   "id": "c7505c3f",
   "metadata": {
    "lines_to_next_cell": 0
   },
   "outputs": [],
   "source": []
  },
  {
   "cell_type": "code",
   "execution_count": null,
   "id": "b91042d3",
   "metadata": {
    "lines_to_next_cell": 0
   },
   "outputs": [],
   "source": []
  },
  {
   "cell_type": "code",
   "execution_count": null,
   "id": "f7baae3e",
   "metadata": {
    "lines_to_next_cell": 0
   },
   "outputs": [],
   "source": []
  },
  {
   "cell_type": "code",
   "execution_count": null,
   "id": "3876512d",
   "metadata": {
    "lines_to_next_cell": 0
   },
   "outputs": [],
   "source": []
  },
  {
   "cell_type": "code",
   "execution_count": null,
   "id": "6c94345a",
   "metadata": {
    "lines_to_next_cell": 0
   },
   "outputs": [],
   "source": []
  },
  {
   "cell_type": "code",
   "execution_count": null,
   "id": "204cc523",
   "metadata": {
    "lines_to_next_cell": 0
   },
   "outputs": [],
   "source": []
  },
  {
   "cell_type": "code",
   "execution_count": null,
   "id": "6dab28aa",
   "metadata": {
    "lines_to_next_cell": 0
   },
   "outputs": [],
   "source": []
  },
  {
   "cell_type": "code",
   "execution_count": null,
   "id": "f0641741",
   "metadata": {
    "lines_to_next_cell": 0
   },
   "outputs": [],
   "source": []
  },
  {
   "cell_type": "code",
   "execution_count": null,
   "id": "cfecd5b7",
   "metadata": {
    "lines_to_next_cell": 0
   },
   "outputs": [],
   "source": []
  },
  {
   "cell_type": "code",
   "execution_count": null,
   "id": "342e8e05",
   "metadata": {
    "lines_to_next_cell": 0
   },
   "outputs": [],
   "source": []
  },
  {
   "cell_type": "code",
   "execution_count": null,
   "id": "a5d50801",
   "metadata": {
    "lines_to_next_cell": 0
   },
   "outputs": [],
   "source": []
  },
  {
   "cell_type": "code",
   "execution_count": null,
   "id": "4d3e2e90",
   "metadata": {},
   "outputs": [],
   "source": []
  }
 ],
 "metadata": {
  "kernelspec": {
   "display_name": "Python3",
   "language": "python",
   "name": "Python3"
  }
 },
 "nbformat": 4,
 "nbformat_minor": 5
}
