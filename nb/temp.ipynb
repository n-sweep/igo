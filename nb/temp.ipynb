{
 "cells": [
  {
   "cell_type": "code",
   "execution_count": null,
   "id": "60abad0e",
   "metadata": {},
   "outputs": [],
   "source": [
    "import numpy as np\n",
    "from itertools import accumulate, product, combinations"
   ]
  },
  {
   "cell_type": "markdown",
   "id": "26f25435",
   "metadata": {},
   "source": [
    "# Template Notebook"
   ]
  },
  {
   "cell_type": "code",
   "execution_count": null,
   "id": "660e78da",
   "metadata": {},
   "outputs": [],
   "source": [
    "ALPHA = 'abcdefghijklmnopqrstuvwxyz'\n",
    "B = \"⚫\"\n",
    "W = \"⚪\"\n",
    "PT = \"╶╴\"\n",
    "SP = \"╺╸\"\n",
    "\n",
    "BLACK = '\\033[30m'      # ]\n",
    "GRAY = '\\033[90m'       # ]\n",
    "YELLOW = '\\033[33m'     # ]\n",
    "BG_YELLOW = '\\033[43m'  # ]\n",
    "RESET = '\\033[0m'       # ]\n",
    "\n",
    "\n",
    "class Board:\n",
    "    def __init__(self, size: int = 19):\n",
    "        self.size = size\n",
    "        self.state = np.zeros((size,size), dtype=int)\n",
    "\n",
    "    def play(self, player: int, x: int, y: int) -> None:\n",
    "        self.state[y, x] = player\n",
    "\n",
    "    def plaintext_board(self) -> str:\n",
    "        star_points = np.zeros((self.size,self.size), dtype=int)\n",
    "        s = 3 if self.size > 9 else 2\n",
    "        corners = [j for i in range(3) if (j:=(s+(2*s*i))) < self.size]\n",
    "        pts = [(f:=self.size//2, f)] + list(product(corners, repeat=2))\n",
    "        star_points[*zip(*pts)] = -1\n",
    "\n",
    "        board = self.state.copy()\n",
    "        mask = ~self.state.astype(bool)\n",
    "        board[mask] = star_points[mask]\n",
    "\n",
    "        joined = ' '.join(list(ALPHA.replace('i', '')[:size])).upper()\n",
    "        rows = [col_label:=f\"{YELLOW}{(d:='-' * s)}{BLACK}{joined} {YELLOW}{d}\"]\n",
    "\n",
    "        for r, input_row in enumerate(board, 1):\n",
    "            row = ''.join([(PT,B,W,SP)[i] for i in input_row])\n",
    "            num = str(size - r + 1)\n",
    "            lnum = num.rjust(int(len(str(size))))\n",
    "            rnum = num.ljust(int(len(str(size))))\n",
    "            rows.append(f'{BLACK}{lnum} {GRAY}{row} {BLACK}{rnum}')\n",
    "\n",
    "        rows.append(col_label)\n",
    "        rows = [f'{BG_YELLOW}{row}{RESET}' for row in rows]\n",
    "\n",
    "        return '\\n'.join(rows)\n",
    "\n",
    "    def __str__(self):\n",
    "        return self.plaintext_board()\n",
    "\n",
    "for size in [9, 13, 19]:\n",
    "    b = Board(size)\n",
    "    b.play(1, 4, 4)\n",
    "    b.play(2, 3, 2)\n",
    "    print(b)"
   ]
  },
  {
   "cell_type": "code",
   "execution_count": null,
   "id": "c3167c06",
   "metadata": {
    "lines_to_next_cell": 0
   },
   "outputs": [],
   "source": []
  },
  {
   "cell_type": "code",
   "execution_count": null,
   "id": "999ddea5",
   "metadata": {
    "lines_to_next_cell": 0
   },
   "outputs": [],
   "source": []
  },
  {
   "cell_type": "code",
   "execution_count": null,
   "id": "f28b3b12",
   "metadata": {
    "lines_to_next_cell": 0
   },
   "outputs": [],
   "source": []
  },
  {
   "cell_type": "code",
   "execution_count": null,
   "id": "5a5cadde",
   "metadata": {
    "lines_to_next_cell": 0
   },
   "outputs": [],
   "source": []
  },
  {
   "cell_type": "code",
   "execution_count": null,
   "id": "bc26c16f",
   "metadata": {
    "lines_to_next_cell": 0
   },
   "outputs": [],
   "source": []
  },
  {
   "cell_type": "code",
   "execution_count": null,
   "id": "7cc96c8e",
   "metadata": {
    "lines_to_next_cell": 0
   },
   "outputs": [],
   "source": []
  },
  {
   "cell_type": "code",
   "execution_count": null,
   "id": "e0c5d97f",
   "metadata": {
    "lines_to_next_cell": 0
   },
   "outputs": [],
   "source": []
  },
  {
   "cell_type": "code",
   "execution_count": null,
   "id": "16176ff6",
   "metadata": {
    "lines_to_next_cell": 0
   },
   "outputs": [],
   "source": []
  },
  {
   "cell_type": "code",
   "execution_count": null,
   "id": "bfec207d",
   "metadata": {
    "lines_to_next_cell": 0
   },
   "outputs": [],
   "source": []
  },
  {
   "cell_type": "code",
   "execution_count": null,
   "id": "c6fa82c1",
   "metadata": {
    "lines_to_next_cell": 0
   },
   "outputs": [],
   "source": []
  },
  {
   "cell_type": "code",
   "execution_count": null,
   "id": "07273c2d",
   "metadata": {
    "lines_to_next_cell": 0
   },
   "outputs": [],
   "source": []
  },
  {
   "cell_type": "code",
   "execution_count": null,
   "id": "55383001",
   "metadata": {
    "lines_to_next_cell": 0
   },
   "outputs": [],
   "source": []
  },
  {
   "cell_type": "code",
   "execution_count": null,
   "id": "7dc20237",
   "metadata": {
    "lines_to_next_cell": 0
   },
   "outputs": [],
   "source": []
  },
  {
   "cell_type": "code",
   "execution_count": null,
   "id": "e43cf216",
   "metadata": {
    "lines_to_next_cell": 0
   },
   "outputs": [],
   "source": []
  },
  {
   "cell_type": "code",
   "execution_count": null,
   "id": "013cb5eb",
   "metadata": {
    "lines_to_next_cell": 0
   },
   "outputs": [],
   "source": []
  },
  {
   "cell_type": "code",
   "execution_count": null,
   "id": "1bcbf89e",
   "metadata": {
    "lines_to_next_cell": 0
   },
   "outputs": [],
   "source": []
  },
  {
   "cell_type": "code",
   "execution_count": null,
   "id": "f7ccadd7",
   "metadata": {
    "lines_to_next_cell": 0
   },
   "outputs": [],
   "source": []
  },
  {
   "cell_type": "code",
   "execution_count": null,
   "id": "6387ad50",
   "metadata": {
    "lines_to_next_cell": 0
   },
   "outputs": [],
   "source": []
  },
  {
   "cell_type": "code",
   "execution_count": null,
   "id": "0709cd77",
   "metadata": {
    "lines_to_next_cell": 0
   },
   "outputs": [],
   "source": []
  },
  {
   "cell_type": "code",
   "execution_count": null,
   "id": "f029edc1",
   "metadata": {
    "lines_to_next_cell": 0
   },
   "outputs": [],
   "source": []
  },
  {
   "cell_type": "code",
   "execution_count": null,
   "id": "e53fbc15",
   "metadata": {
    "lines_to_next_cell": 0
   },
   "outputs": [],
   "source": []
  },
  {
   "cell_type": "code",
   "execution_count": null,
   "id": "d29a28f9",
   "metadata": {
    "lines_to_next_cell": 0
   },
   "outputs": [],
   "source": []
  },
  {
   "cell_type": "code",
   "execution_count": null,
   "id": "0fccd999",
   "metadata": {
    "lines_to_next_cell": 0
   },
   "outputs": [],
   "source": []
  },
  {
   "cell_type": "code",
   "execution_count": null,
   "id": "fe340ece",
   "metadata": {
    "lines_to_next_cell": 0
   },
   "outputs": [],
   "source": []
  },
  {
   "cell_type": "code",
   "execution_count": null,
   "id": "12058f8c",
   "metadata": {
    "lines_to_next_cell": 0
   },
   "outputs": [],
   "source": []
  },
  {
   "cell_type": "code",
   "execution_count": null,
   "id": "5a7d4423",
   "metadata": {
    "lines_to_next_cell": 0
   },
   "outputs": [],
   "source": []
  },
  {
   "cell_type": "code",
   "execution_count": null,
   "id": "e98b0b31",
   "metadata": {
    "lines_to_next_cell": 0
   },
   "outputs": [],
   "source": []
  },
  {
   "cell_type": "code",
   "execution_count": null,
   "id": "101b3024",
   "metadata": {
    "lines_to_next_cell": 0
   },
   "outputs": [],
   "source": []
  },
  {
   "cell_type": "code",
   "execution_count": null,
   "id": "a9fe1fe5",
   "metadata": {
    "lines_to_next_cell": 0
   },
   "outputs": [],
   "source": []
  },
  {
   "cell_type": "code",
   "execution_count": null,
   "id": "246285ae",
   "metadata": {
    "lines_to_next_cell": 0
   },
   "outputs": [],
   "source": []
  },
  {
   "cell_type": "code",
   "execution_count": null,
   "id": "2fe0bf3e",
   "metadata": {
    "lines_to_next_cell": 0
   },
   "outputs": [],
   "source": []
  },
  {
   "cell_type": "code",
   "execution_count": null,
   "id": "0f9afa32",
   "metadata": {
    "lines_to_next_cell": 0
   },
   "outputs": [],
   "source": []
  },
  {
   "cell_type": "code",
   "execution_count": null,
   "id": "dc23d63c",
   "metadata": {
    "lines_to_next_cell": 0
   },
   "outputs": [],
   "source": []
  },
  {
   "cell_type": "code",
   "execution_count": null,
   "id": "b2a68952",
   "metadata": {
    "lines_to_next_cell": 0
   },
   "outputs": [],
   "source": []
  },
  {
   "cell_type": "code",
   "execution_count": null,
   "id": "5ce1d6a8",
   "metadata": {
    "lines_to_next_cell": 0
   },
   "outputs": [],
   "source": []
  },
  {
   "cell_type": "code",
   "execution_count": null,
   "id": "2acd957d",
   "metadata": {},
   "outputs": [],
   "source": []
  }
 ],
 "metadata": {
  "kernelspec": {
   "display_name": "Python3",
   "language": "python",
   "name": "Python3"
  }
 },
 "nbformat": 4,
 "nbformat_minor": 5
}
