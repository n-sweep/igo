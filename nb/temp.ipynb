{
 "cells": [
  {
   "cell_type": "code",
   "execution_count": null,
   "id": "60abad0e",
   "metadata": {},
   "outputs": [],
   "source": [
    "import json\n",
    "import numpy as np\n",
    "from itertools import product"
   ]
  },
  {
   "cell_type": "markdown",
   "id": "26f25435",
   "metadata": {},
   "source": [
    "# Template Notebook"
   ]
  },
  {
   "cell_type": "code",
   "execution_count": null,
   "id": "660e78da",
   "metadata": {},
   "outputs": [],
   "source": [
    "ALPHA = 'abcdefghijklmnopqrstuvwxyz'\n",
    "B = \"⚫\"\n",
    "W = \"⚪\"\n",
    "PT = \"╶╴\"\n",
    "SP = \"╺╸\"\n",
    "\n",
    "BLACK = '\\033[30m'      # ]\n",
    "GRAY = '\\033[90m'       # ]\n",
    "YELLOW = '\\033[33m'     # ]\n",
    "BG_YELLOW = '\\033[43m'  # ]\n",
    "RESET = '\\033[0m'       # ]\n",
    "\n",
    "\n",
    "class Board:\n",
    "    def __init__(self, size: int):\n",
    "        self.size = size\n",
    "        self.state = np.zeros((size,size), dtype=int)\n",
    "\n",
    "    def play(self, player: int, x: int, y: int) -> None:\n",
    "        self.state[y, x] = player\n",
    "\n",
    "    def plaintext_board(self) -> str:\n",
    "        star_points = np.zeros((self.size,self.size), dtype=int)\n",
    "        corners = [j for i in range(3) if (j:=((s:=2+(self.size>9))+(2*s*i))) < self.size]\n",
    "        pts = [(f:=self.size//2, f)] + list(product(corners, repeat=2))\n",
    "        star_points[*zip(*pts)] = -1\n",
    "\n",
    "        board = self.state.copy()\n",
    "        mask = ~self.state.astype(bool)\n",
    "        board[mask] = star_points[mask]\n",
    "\n",
    "        joined = ' '.join(list(ALPHA.replace('i', '')[:size])).upper()\n",
    "        rows = [col_label:=f\"{YELLOW}{(d:='-' * s)}{BLACK}{joined} {YELLOW}{d}\"]\n",
    "\n",
    "        for r, input_row in enumerate(board, 1):\n",
    "            row = ''.join([(PT,B,W,SP)[i] for i in input_row])\n",
    "            num = str(size - r + 1)\n",
    "            lnum = num.rjust(int(len(str(size))))\n",
    "            rnum = num.ljust(int(len(str(size))))\n",
    "            rows.append(f'{BLACK}{lnum} {GRAY}{row} {BLACK}{rnum}')\n",
    "\n",
    "        rows.append(col_label)\n",
    "        rows = [f'{BG_YELLOW}{row}{RESET}' for row in rows]\n",
    "\n",
    "        return '\\n'.join(rows)\n",
    "\n",
    "    def __str__(self):\n",
    "        return self.plaintext_board()\n",
    "\n",
    "for size in [13]:\n",
    "    b = Board(size)\n",
    "    b.play(1, 4, 4)\n",
    "    b.play(2, 3, 2)\n",
    "    print(b)"
   ]
  },
  {
   "cell_type": "code",
   "execution_count": null,
   "id": "bad628e5",
   "metadata": {},
   "outputs": [],
   "source": [
    "import os\n",
    "import requests\n",
    "\n",
    "BASE_URL = \"https://online-go.com/api/v1/games\"\n",
    "game_id = \"68984609\"\n",
    "request_url = os.path.join(BASE_URL, game_id, 'sgf')\n",
    "\n",
    "r = requests.get(request_url)\n",
    "\n",
    "print(r)\n",
    "print(r.url)\n",
    "\n",
    "# print(json.dumps(r.json()))"
   ]
  },
  {
   "cell_type": "code",
   "execution_count": null,
   "id": "bd5f3517",
   "metadata": {},
   "outputs": [],
   "source": [
    "import re\n",
    "\n",
    "sgf = r.content.decode('utf-8')\n",
    "text = sgf.strip(')').split(';')\n",
    "meta = dict(re.findall(r'(\\w+)\\[(.*?)\\]\\n?', text[1]))\n",
    "moves = [tuple(m.strip('\\n()]').split('[')) for m in text[2:]]\n",
    "\n",
    "print(meta)\n",
    "print(moves)"
   ]
  },
  {
   "cell_type": "code",
   "execution_count": null,
   "id": "2fd4bd18",
   "metadata": {},
   "outputs": [],
   "source": [
    "b = Board(13)\n",
    "for player, move in moves:\n",
    "    player_num = 'BW'.index(player) + 1\n",
    "\n",
    "    if move:  # an empty move is a pass\n",
    "        x, y = (ALPHA.index(c) for c in move)\n",
    "        b.play(player_num, x, y)\n",
    "\n",
    "print(b)"
   ]
  },
  {
   "cell_type": "code",
   "execution_count": null,
   "id": "c3167c06",
   "metadata": {
    "lines_to_next_cell": 0
   },
   "outputs": [],
   "source": []
  },
  {
   "cell_type": "code",
   "execution_count": null,
   "id": "999ddea5",
   "metadata": {
    "lines_to_next_cell": 0
   },
   "outputs": [],
   "source": []
  },
  {
   "cell_type": "code",
   "execution_count": null,
   "id": "f28b3b12",
   "metadata": {
    "lines_to_next_cell": 0
   },
   "outputs": [],
   "source": []
  },
  {
   "cell_type": "code",
   "execution_count": null,
   "id": "5a5cadde",
   "metadata": {},
   "outputs": [],
   "source": []
  }
 ],
 "metadata": {
  "kernelspec": {
   "display_name": "Python3",
   "language": "python",
   "name": "Python3"
  }
 },
 "nbformat": 4,
 "nbformat_minor": 5
}
